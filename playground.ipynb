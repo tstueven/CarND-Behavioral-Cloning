{
 "cells": [
  {
   "cell_type": "code",
   "execution_count": 1,
   "id": "040a2c96",
   "metadata": {},
   "outputs": [],
   "source": [
    "import numpy as np\n",
    "import pandas as pd\n",
    "from scipy import ndimage\n",
    "import matplotlib.pyplot as plt\n",
    "\n",
    "import warnings\n",
    "warnings.filterwarnings('ignore')\n",
    "\n",
    "def update_path(source_path, new_path_prefix):\n",
    "    filename = source_path.split('/')[-1]\n",
    "    return new_path_prefix + filename\n",
    "\n",
    "driving_log = pd.read_csv('data/driving_log.csv')"
   ]
  },
  {
   "cell_type": "code",
   "execution_count": 2,
   "id": "c1c8a5bf",
   "metadata": {},
   "outputs": [],
   "source": [
    "num_in = len(driving_log)\n",
    "X_train = np.zeros((6*num_in, 160, 320, 3), dtype=np.uint8)\n",
    "y_train = np.zeros(6*num_in, dtype=float)\n",
    "\n",
    "\n",
    "for i, (img_path_orig, steering_angle) in enumerate(zip(driving_log['center'], driving_log['steering'])):\n",
    "    img_path = update_path(img_path_orig, 'data/IMG/')\n",
    "    image = plt.imread(img_path)\n",
    "    X_train[2*i] = image\n",
    "    y_train[2*i] = steering_angle\n",
    "    X_train[2*i+1] = np.fliplr(image)\n",
    "    y_train[2*i+1] = -steering_angle\n",
    "    \n",
    "for i, (img_path_orig, steering_angle) in enumerate(zip(driving_log['left'], driving_log['steering'])):\n",
    "    img_path = update_path(img_path_orig, 'data/IMG/')\n",
    "    image = plt.imread(img_path)\n",
    "    steering_angle += 0.25\n",
    "    X_train[2*num_in + 2*i] = image\n",
    "    y_train[2*num_in + 2*i] = steering_angle\n",
    "    X_train[2*num_in + 2*i+1] = np.fliplr(image)\n",
    "    y_train[2*num_in + 2*i+1] = -steering_angle\n",
    "    \n",
    "for i, (img_path_orig, steering_angle) in enumerate(zip(driving_log['right'], driving_log['steering'])):\n",
    "    img_path = update_path(img_path_orig, 'data/IMG/')\n",
    "    image = plt.imread(img_path)\n",
    "    steering_angle -= 0.25\n",
    "    X_train[4*num_in + 2*i] = image\n",
    "    y_train[4*num_in + 2*i] = steering_angle\n",
    "    X_train[4*num_in + 2*i+1] = np.fliplr(image)\n",
    "    y_train[4*num_in + 2*i+1] = -steering_angle\n",
    "    "
   ]
  },
  {
   "cell_type": "code",
   "execution_count": 15,
   "id": "d5c41584",
   "metadata": {},
   "outputs": [
    {
     "name": "stdout",
     "output_type": "stream",
     "text": [
      "Train on 38572 samples, validate on 9644 samples\n",
      "Epoch 1/30\n",
      "38572/38572 [==============================] - 73s 2ms/step - loss: 5.8346 - val_loss: 3.6170\n",
      "Epoch 2/30\n",
      "38572/38572 [==============================] - 72s 2ms/step - loss: 1.7912 - val_loss: 3.6171\n",
      "Epoch 3/30\n",
      "38400/38572 [============================>.] - ETA: 0s - loss: 1.5771"
     ]
    },
    {
     "ename": "KeyboardInterrupt",
     "evalue": "",
     "output_type": "error",
     "traceback": [
      "\u001b[0;31m---------------------------------------------------------------------------\u001b[0m",
      "\u001b[0;31mKeyboardInterrupt\u001b[0m                         Traceback (most recent call last)",
      "\u001b[0;32m<ipython-input-15-51f014715b20>\u001b[0m in \u001b[0;36m<module>\u001b[0;34m()\u001b[0m\n\u001b[1;32m     65\u001b[0m \u001b[0mmodel\u001b[0m\u001b[0;34m.\u001b[0m\u001b[0mcompile\u001b[0m\u001b[0;34m(\u001b[0m\u001b[0mloss\u001b[0m\u001b[0;34m=\u001b[0m\u001b[0mmy_loss_fn\u001b[0m\u001b[0;34m,\u001b[0m \u001b[0moptimizer\u001b[0m\u001b[0;34m=\u001b[0m\u001b[0;34m'adam'\u001b[0m\u001b[0;34m)\u001b[0m\u001b[0;34m\u001b[0m\u001b[0m\n\u001b[1;32m     66\u001b[0m history_object = model.fit(X_train, y_train, validation_split=0.2, shuffle=True, epochs=30,\n\u001b[0;32m---> 67\u001b[0;31m                            batch_size=256, callbacks=[stopper])\n\u001b[0m\u001b[1;32m     68\u001b[0m \u001b[0mmodel\u001b[0m\u001b[0;34m.\u001b[0m\u001b[0mcompile\u001b[0m\u001b[0;34m(\u001b[0m\u001b[0mloss\u001b[0m\u001b[0;34m=\u001b[0m\u001b[0;34m'mse'\u001b[0m\u001b[0;34m,\u001b[0m \u001b[0moptimizer\u001b[0m\u001b[0;34m=\u001b[0m\u001b[0;34m'adam'\u001b[0m\u001b[0;34m)\u001b[0m\u001b[0;34m\u001b[0m\u001b[0m\n\u001b[1;32m     69\u001b[0m \u001b[0;34m\u001b[0m\u001b[0m\n",
      "\u001b[0;32m/opt/miniconda3/envs/car2/lib/python3.5/site-packages/keras/engine/training.py\u001b[0m in \u001b[0;36mfit\u001b[0;34m(self, x, y, batch_size, epochs, verbose, callbacks, validation_split, validation_data, shuffle, class_weight, sample_weight, initial_epoch, steps_per_epoch, validation_steps, **kwargs)\u001b[0m\n\u001b[1;32m   1037\u001b[0m                                         \u001b[0minitial_epoch\u001b[0m\u001b[0;34m=\u001b[0m\u001b[0minitial_epoch\u001b[0m\u001b[0;34m,\u001b[0m\u001b[0;34m\u001b[0m\u001b[0m\n\u001b[1;32m   1038\u001b[0m                                         \u001b[0msteps_per_epoch\u001b[0m\u001b[0;34m=\u001b[0m\u001b[0msteps_per_epoch\u001b[0m\u001b[0;34m,\u001b[0m\u001b[0;34m\u001b[0m\u001b[0m\n\u001b[0;32m-> 1039\u001b[0;31m                                         validation_steps=validation_steps)\n\u001b[0m\u001b[1;32m   1040\u001b[0m \u001b[0;34m\u001b[0m\u001b[0m\n\u001b[1;32m   1041\u001b[0m     def evaluate(self, x=None, y=None,\n",
      "\u001b[0;32m/opt/miniconda3/envs/car2/lib/python3.5/site-packages/keras/engine/training_arrays.py\u001b[0m in \u001b[0;36mfit_loop\u001b[0;34m(model, f, ins, out_labels, batch_size, epochs, verbose, callbacks, val_f, val_ins, shuffle, callback_metrics, initial_epoch, steps_per_epoch, validation_steps)\u001b[0m\n\u001b[1;32m    210\u001b[0m                         val_outs = test_loop(model, val_f, val_ins,\n\u001b[1;32m    211\u001b[0m                                              \u001b[0mbatch_size\u001b[0m\u001b[0;34m=\u001b[0m\u001b[0mbatch_size\u001b[0m\u001b[0;34m,\u001b[0m\u001b[0;34m\u001b[0m\u001b[0m\n\u001b[0;32m--> 212\u001b[0;31m                                              verbose=0)\n\u001b[0m\u001b[1;32m    213\u001b[0m                         \u001b[0mval_outs\u001b[0m \u001b[0;34m=\u001b[0m \u001b[0mto_list\u001b[0m\u001b[0;34m(\u001b[0m\u001b[0mval_outs\u001b[0m\u001b[0;34m)\u001b[0m\u001b[0;34m\u001b[0m\u001b[0m\n\u001b[1;32m    214\u001b[0m                         \u001b[0;31m# Same labels assumed.\u001b[0m\u001b[0;34m\u001b[0m\u001b[0;34m\u001b[0m\u001b[0m\n",
      "\u001b[0;32m/opt/miniconda3/envs/car2/lib/python3.5/site-packages/keras/engine/training_arrays.py\u001b[0m in \u001b[0;36mtest_loop\u001b[0;34m(model, f, ins, batch_size, verbose, steps)\u001b[0m\n\u001b[1;32m    390\u001b[0m                 \u001b[0mins_batch\u001b[0m\u001b[0;34m[\u001b[0m\u001b[0mi\u001b[0m\u001b[0;34m]\u001b[0m \u001b[0;34m=\u001b[0m \u001b[0mins_batch\u001b[0m\u001b[0;34m[\u001b[0m\u001b[0mi\u001b[0m\u001b[0;34m]\u001b[0m\u001b[0;34m.\u001b[0m\u001b[0mtoarray\u001b[0m\u001b[0;34m(\u001b[0m\u001b[0;34m)\u001b[0m\u001b[0;34m\u001b[0m\u001b[0m\n\u001b[1;32m    391\u001b[0m \u001b[0;34m\u001b[0m\u001b[0m\n\u001b[0;32m--> 392\u001b[0;31m             \u001b[0mbatch_outs\u001b[0m \u001b[0;34m=\u001b[0m \u001b[0mf\u001b[0m\u001b[0;34m(\u001b[0m\u001b[0mins_batch\u001b[0m\u001b[0;34m)\u001b[0m\u001b[0;34m\u001b[0m\u001b[0m\n\u001b[0m\u001b[1;32m    393\u001b[0m             \u001b[0;32mif\u001b[0m \u001b[0misinstance\u001b[0m\u001b[0;34m(\u001b[0m\u001b[0mbatch_outs\u001b[0m\u001b[0;34m,\u001b[0m \u001b[0mlist\u001b[0m\u001b[0;34m)\u001b[0m\u001b[0;34m:\u001b[0m\u001b[0;34m\u001b[0m\u001b[0m\n\u001b[1;32m    394\u001b[0m                 \u001b[0;32mif\u001b[0m \u001b[0mbatch_index\u001b[0m \u001b[0;34m==\u001b[0m \u001b[0;36m0\u001b[0m\u001b[0;34m:\u001b[0m\u001b[0;34m\u001b[0m\u001b[0m\n",
      "\u001b[0;32m/opt/miniconda3/envs/car2/lib/python3.5/site-packages/keras/backend/tensorflow_backend.py\u001b[0m in \u001b[0;36m__call__\u001b[0;34m(self, inputs)\u001b[0m\n\u001b[1;32m   2713\u001b[0m                 \u001b[0;32mreturn\u001b[0m \u001b[0mself\u001b[0m\u001b[0;34m.\u001b[0m\u001b[0m_legacy_call\u001b[0m\u001b[0;34m(\u001b[0m\u001b[0minputs\u001b[0m\u001b[0;34m)\u001b[0m\u001b[0;34m\u001b[0m\u001b[0m\n\u001b[1;32m   2714\u001b[0m \u001b[0;34m\u001b[0m\u001b[0m\n\u001b[0;32m-> 2715\u001b[0;31m             \u001b[0;32mreturn\u001b[0m \u001b[0mself\u001b[0m\u001b[0;34m.\u001b[0m\u001b[0m_call\u001b[0m\u001b[0;34m(\u001b[0m\u001b[0minputs\u001b[0m\u001b[0;34m)\u001b[0m\u001b[0;34m\u001b[0m\u001b[0m\n\u001b[0m\u001b[1;32m   2716\u001b[0m         \u001b[0;32melse\u001b[0m\u001b[0;34m:\u001b[0m\u001b[0;34m\u001b[0m\u001b[0m\n\u001b[1;32m   2717\u001b[0m             \u001b[0;32mif\u001b[0m \u001b[0mpy_any\u001b[0m\u001b[0;34m(\u001b[0m\u001b[0mis_tensor\u001b[0m\u001b[0;34m(\u001b[0m\u001b[0mx\u001b[0m\u001b[0;34m)\u001b[0m \u001b[0;32mfor\u001b[0m \u001b[0mx\u001b[0m \u001b[0;32min\u001b[0m \u001b[0minputs\u001b[0m\u001b[0;34m)\u001b[0m\u001b[0;34m:\u001b[0m\u001b[0;34m\u001b[0m\u001b[0m\n",
      "\u001b[0;32m/opt/miniconda3/envs/car2/lib/python3.5/site-packages/keras/backend/tensorflow_backend.py\u001b[0m in \u001b[0;36m_call\u001b[0;34m(self, inputs)\u001b[0m\n\u001b[1;32m   2673\u001b[0m             \u001b[0mfetched\u001b[0m \u001b[0;34m=\u001b[0m \u001b[0mself\u001b[0m\u001b[0;34m.\u001b[0m\u001b[0m_callable_fn\u001b[0m\u001b[0;34m(\u001b[0m\u001b[0;34m*\u001b[0m\u001b[0marray_vals\u001b[0m\u001b[0;34m,\u001b[0m \u001b[0mrun_metadata\u001b[0m\u001b[0;34m=\u001b[0m\u001b[0mself\u001b[0m\u001b[0;34m.\u001b[0m\u001b[0mrun_metadata\u001b[0m\u001b[0;34m)\u001b[0m\u001b[0;34m\u001b[0m\u001b[0m\n\u001b[1;32m   2674\u001b[0m         \u001b[0;32melse\u001b[0m\u001b[0;34m:\u001b[0m\u001b[0;34m\u001b[0m\u001b[0m\n\u001b[0;32m-> 2675\u001b[0;31m             \u001b[0mfetched\u001b[0m \u001b[0;34m=\u001b[0m \u001b[0mself\u001b[0m\u001b[0;34m.\u001b[0m\u001b[0m_callable_fn\u001b[0m\u001b[0;34m(\u001b[0m\u001b[0;34m*\u001b[0m\u001b[0marray_vals\u001b[0m\u001b[0;34m)\u001b[0m\u001b[0;34m\u001b[0m\u001b[0m\n\u001b[0m\u001b[1;32m   2676\u001b[0m         \u001b[0;32mreturn\u001b[0m \u001b[0mfetched\u001b[0m\u001b[0;34m[\u001b[0m\u001b[0;34m:\u001b[0m\u001b[0mlen\u001b[0m\u001b[0;34m(\u001b[0m\u001b[0mself\u001b[0m\u001b[0;34m.\u001b[0m\u001b[0moutputs\u001b[0m\u001b[0;34m)\u001b[0m\u001b[0;34m]\u001b[0m\u001b[0;34m\u001b[0m\u001b[0m\n\u001b[1;32m   2677\u001b[0m \u001b[0;34m\u001b[0m\u001b[0m\n",
      "\u001b[0;32m/opt/miniconda3/envs/car2/lib/python3.5/site-packages/tensorflow/python/client/session.py\u001b[0m in \u001b[0;36m__call__\u001b[0;34m(self, *args, **kwargs)\u001b[0m\n\u001b[1;32m   1456\u001b[0m         ret = tf_session.TF_SessionRunCallable(self._session._session,\n\u001b[1;32m   1457\u001b[0m                                                \u001b[0mself\u001b[0m\u001b[0;34m.\u001b[0m\u001b[0m_handle\u001b[0m\u001b[0;34m,\u001b[0m \u001b[0margs\u001b[0m\u001b[0;34m,\u001b[0m\u001b[0;34m\u001b[0m\u001b[0m\n\u001b[0;32m-> 1458\u001b[0;31m                                                run_metadata_ptr)\n\u001b[0m\u001b[1;32m   1459\u001b[0m         \u001b[0;32mif\u001b[0m \u001b[0mrun_metadata\u001b[0m\u001b[0;34m:\u001b[0m\u001b[0;34m\u001b[0m\u001b[0m\n\u001b[1;32m   1460\u001b[0m           \u001b[0mproto_data\u001b[0m \u001b[0;34m=\u001b[0m \u001b[0mtf_session\u001b[0m\u001b[0;34m.\u001b[0m\u001b[0mTF_GetBuffer\u001b[0m\u001b[0;34m(\u001b[0m\u001b[0mrun_metadata_ptr\u001b[0m\u001b[0;34m)\u001b[0m\u001b[0;34m\u001b[0m\u001b[0m\n",
      "\u001b[0;31mKeyboardInterrupt\u001b[0m: "
     ]
    }
   ],
   "source": [
    "from keras.models import Sequential, Model\n",
    "from keras.layers import Flatten, Dense, Lambda, Input, Cropping2D, Dropout, Activation, Concatenate\n",
    "from keras.callbacks import EarlyStopping, ModelCheckpoint\n",
    "from keras.applications import VGG19, VGG16, InceptionV3, ResNet50\n",
    "\n",
    "save_path = 'model.h5'\n",
    "\n",
    "dropout_rate = 0.4\n",
    "crop_top = 60\n",
    "crop_bottom = 20\n",
    "split_left_right = 140\n",
    "stopper = EarlyStopping(monitor='val_loss', min_delta=0.0003, patience=3)\n",
    "checkpoint = ModelCheckpoint(filepath=save_path, monitor='val_loss', save_best_only=True)\n",
    "\n",
    "def high_value_emphasizing_loss(y_true, y_pred):\n",
    "    weighted_squared_difference = (y_true - y_pred)**2 * (1 + 100*np.abs(y_true)) # what if true = 0?\n",
    "    return weighted_squared_difference\n",
    "\n",
    "pretrained = VGG16(weights='imagenet', include_top=False,\n",
    "                   input_shape=(160-crop_top-crop_bottom, 320-0, 3))\n",
    "for layer in pretrained.layers:\n",
    "    layer.trainable = False\n",
    "    \n",
    "# pretrained_cut = Sequential()  # https://github.com/tensorflow/tensorflow/issues/22479\n",
    "# for layer in pretrained.layers[:-4]:\n",
    "#     pretrained_cut.add(layer)\n",
    "\n",
    "\n",
    "# common_dense_layer = Dense(128)\n",
    "\n",
    "# def sidewise_block(input_tensor):\n",
    "#     x = Lambda(lambda x: (x / 255.0) - 0.5)(input_tensor)\n",
    "#     x = pretrained(x)\n",
    "#     x = Flatten()(x)\n",
    "#     x = Dropout(rate=dropout_rate)(x)\n",
    "#     x = Dense(128)(x)\n",
    "#     x = Activation('relu')(x)\n",
    "#     return x\n",
    "\n",
    "# inp = Input(shape=(160,320,3))\n",
    "# left = Cropping2D(cropping=((crop_top,crop_bottom), (0,split_left_right)))(inp)\n",
    "# right = Cropping2D(cropping=((crop_top,crop_bottom), (split_left_right,0)))(inp)\n",
    "# left = sidewise_block(left)\n",
    "# right = sidewise_block(right)\n",
    "# x = Concatenate(axis=1)([left, right])\n",
    "# x = Dropout(rate=dropout_rate)(x)\n",
    "# x = Dense(128)(x)\n",
    "# x = Activation('relu')(x)\n",
    "# x = Dropout(rate=dropout_rate)(x)\n",
    "# out = Dense(1)(x)\n",
    "# model = Model(inputs = inp, outputs=out)\n",
    "\n",
    "inp = Input(shape=(160,320,3))\n",
    "x = Cropping2D(cropping=((crop_top,crop_bottom), (0,0)))(inp)\n",
    "x = Lambda(lambda x: (x / 255.0) - 0.5)(x)\n",
    "x = pretrained(x)\n",
    "x = Flatten()(x)\n",
    "x = Dropout(rate=0.4)(x)\n",
    "x = Dense(256)(x)\n",
    "x = Activation('relu')(x)\n",
    "x = Dropout(rate=0.2)(x)\n",
    "x = Dense(100)(x)\n",
    "x = Activation('relu')(x)\n",
    "x = Dense(1)(x)\n",
    "model = Model(inputs = inp, outputs=x)\n",
    "\n",
    "model.compile(loss=high_value_emphasizing_loss, optimizer='adam')\n",
    "history_object = model.fit(X_train, y_train, validation_split=0.2, shuffle=True, epochs=30,\n",
    "                           batch_size=256, callbacks=[stopper, checkpoint])\n"
   ]
  },
  {
   "cell_type": "code",
   "execution_count": null,
   "id": "0d2289f1",
   "metadata": {},
   "outputs": [],
   "source": [
    "Train on 38572 samples, validate on 9644 samples\n",
    "Epoch 1/30\n",
    "38572/38572 [==============================] - 72s 2ms/step - loss: 9.4782 - val_loss: 0.9563\n",
    "Epoch 2/30\n",
    "38572/38572 [==============================] - 71s 2ms/step - loss: 0.8008 - val_loss: 0.9083\n",
    "Epoch 3/30\n",
    "38572/38572 [==============================] - 71s 2ms/step - loss: 0.6067 - val_loss: 0.8420\n",
    "Epoch 4/30\n",
    "38572/38572 [==============================] - 71s 2ms/step - loss: 0.5146 - val_loss: 0.8828\n",
    "Epoch 5/30\n",
    "38572/38572 [==============================] - 71s 2ms/step - loss: 0.4510 - val_loss: 0.8305\n",
    "Epoch 6/30\n",
    "38572/38572 [==============================] - 71s 2ms/step - loss: 0.4133 - val_loss: 0.8329\n",
    "Epoch 7/30\n",
    "38572/38572 [==============================] - 71s 2ms/step - loss: 0.3839 - val_loss: 0.9468\n",
    "Epoch 8/30\n",
    "38572/38572 [==============================] - 71s 2ms/step - loss: 0.3650 - val_loss: 0.7558\n",
    "Epoch 9/30\n",
    "38572/38572 [==============================] - 71s 2ms/step - loss: 0.3518 - val_loss: 0.8261\n",
    "Epoch 10/30\n",
    "38572/38572 [==============================] - 72s 2ms/step - loss: 0.3352 - val_loss: 0.7706\n",
    "Epoch 11/30\n",
    "38572/38572 [==============================] - 71s 2ms/step - loss: 0.3356 - val_loss: 0.7865\n"
   ]
  },
  {
   "cell_type": "code",
   "execution_count": 9,
   "id": "679c432a",
   "metadata": {},
   "outputs": [],
   "source": [
    "model.compile(loss='mse', optimizer='adam')\n",
    "model.save('model_30_custom_loss.h5')"
   ]
  },
  {
   "cell_type": "code",
   "execution_count": 14,
   "id": "8a89fe81",
   "metadata": {},
   "outputs": [
    {
     "data": {
      "image/png": "[encoded data removed]",
      "text/plain": [
       "<Figure size 432x288 with 1 Axes>"
      ]
     },
     "metadata": {
      "needs_background": "light"
     },
     "output_type": "display_data"
    }
   ],
   "source": [
    "plt.plot(history_object.history['loss'])\n",
    "plt.plot(history_object.history['val_loss'])\n",
    "plt.title('model mean squared error loss')\n",
    "plt.ylabel('mean squared error loss')\n",
    "plt.xlabel('epoch')\n",
    "plt.legend(['training set', 'validation set'], loc='upper right')\n",
    "plt.show()"
   ]
  },
  {
   "cell_type": "code",
   "execution_count": 20,
   "id": "58697687",
   "metadata": {},
   "outputs": [
    {
     "data": {
      "text/plain": [
       "<keras.layers.convolutional.Conv2D at 0x7f84242fa860>"
      ]
     },
     "execution_count": 20,
     "metadata": {},
     "output_type": "execute_result"
    }
   ],
   "source": [
    "\n"
   ]
  },
  {
   "cell_type": "code",
   "execution_count": 25,
   "id": "5a71fbfb",
   "metadata": {},
   "outputs": [],
   "source": [
    "pretrained = VGG16(weights='imagenet', include_top=False,\n",
    "                   input_shape=(160-crop_top-crop_bottom, 320-split_left_right, 3))\n",
    "pre = Sequential()\n",
    "for layer in pretrained.layers[:-8]: # just exclude last layer from copying\n",
    "    pre.add(layer)"
   ]
  },
  {
   "cell_type": "code",
   "execution_count": 27,
   "id": "f613ac05",
   "metadata": {},
   "outputs": [
    {
     "name": "stdout",
     "output_type": "stream",
     "text": [
      "_________________________________________________________________\n",
      "Layer (type)                 Output Shape              Param #   \n",
      "=================================================================\n",
      "block1_conv1 (Conv2D)        (None, 80, 180, 64)       1792      \n",
      "_________________________________________________________________\n",
      "block1_conv2 (Conv2D)        (None, 80, 180, 64)       36928     \n",
      "_________________________________________________________________\n",
      "block1_pool (MaxPooling2D)   (None, 40, 90, 64)        0         \n",
      "_________________________________________________________________\n",
      "block2_conv1 (Conv2D)        (None, 40, 90, 128)       73856     \n",
      "_________________________________________________________________\n",
      "block2_conv2 (Conv2D)        (None, 40, 90, 128)       147584    \n",
      "_________________________________________________________________\n",
      "block2_pool (MaxPooling2D)   (None, 20, 45, 128)       0         \n",
      "_________________________________________________________________\n",
      "block3_conv1 (Conv2D)        (None, 20, 45, 256)       295168    \n",
      "_________________________________________________________________\n",
      "block3_conv2 (Conv2D)        (None, 20, 45, 256)       590080    \n",
      "_________________________________________________________________\n",
      "block3_conv3 (Conv2D)        (None, 20, 45, 256)       590080    \n",
      "_________________________________________________________________\n",
      "block3_pool (MaxPooling2D)   (None, 10, 22, 256)       0         \n",
      "=================================================================\n",
      "Total params: 1,735,488\n",
      "Trainable params: 1,735,488\n",
      "Non-trainable params: 0\n",
      "_________________________________________________________________\n"
     ]
    }
   ],
   "source": [
    "pre.summary()"
   ]
  },
  {
   "cell_type": "code",
   "execution_count": 28,
   "id": "d3045b93",
   "metadata": {},
   "outputs": [],
   "source": [
    "pre.save('test_p.h5')"
   ]
  },
  {
   "cell_type": "code",
   "execution_count": null,
   "id": "fc44dd3c",
   "metadata": {},
   "outputs": [],
   "source": []
  }
 ],
 "metadata": {
  "kernelspec": {
   "display_name": "Python 3",
   "language": "python",
   "name": "python3"
  },
  "language_info": {
   "codemirror_mode": {
    "name": "ipython",
    "version": 3
   },
   "file_extension": ".py",
   "mimetype": "text/x-python",
   "name": "python",
   "nbconvert_exporter": "python",
   "pygments_lexer": "ipython3",
   "version": "3.5.6"
  }
 },
 "nbformat": 4,
 "nbformat_minor": 5
}
